{
 "cells": [
  {
   "cell_type": "code",
   "execution_count": 3,
   "id": "national-automation",
   "metadata": {},
   "outputs": [],
   "source": [
    "import pandas as pd"
   ]
  },
  {
   "cell_type": "code",
   "execution_count": 4,
   "id": "funded-ratio",
   "metadata": {},
   "outputs": [
    {
     "data": {
      "text/plain": [
       "'import urllib.request\\n\\nurl = \\'http://web.mta.info/developers/data/nyct/turnstile/turnstile_{}.txt\\'\\n\\nweek_nums = [210130,200725,200718,200711,200704,200627,200620,200613,200606,210123,210116,210109,210102,201226,201219,201212,201205,201128,201121,201114,201107,200829,200822,200815,200808,200801,200125,200118,200111,200104,191228,191221,191214,191207,191130,191123,191116,191109,191102,190831,190824,190817,190910,190803,190727,190720,190713,190706,190629,190622,190615,190608,190601]\\n\\n\\nfor week_num in week_nums:\\n    mta_df = urllib.request.urlretrieve(f\"http://web.mta.info/developers/data/nyct/turnstile/turnstile_{week_num}.txt\", f\"turnstile_{week_num}.txt\")'"
      ]
     },
     "execution_count": 4,
     "metadata": {},
     "output_type": "execute_result"
    }
   ],
   "source": [
    "'''import urllib.request\n",
    "\n",
    "url = 'http://web.mta.info/developers/data/nyct/turnstile/turnstile_{}.txt'\n",
    "\n",
    "week_nums = [210130,200725,200718,200711,200704,200627,200620,200613,200606,210123,210116,210109,210102,201226,201219,201212,201205,201128,201121,201114,201107,200829,200822,200815,200808,200801,200125,200118,200111,200104,191228,191221,191214,191207,191130,191123,191116,191109,191102,190831,190824,190817,190910,190803,190727,190720,190713,190706,190629,190622,190615,190608,190601]\n",
    "\n",
    "\n",
    "for week_num in week_nums:\n",
    "    mta_df = urllib.request.urlretrieve(f\"http://web.mta.info/developers/data/nyct/turnstile/turnstile_{week_num}.txt\", f\"turnstile_{week_num}.txt\")'''"
   ]
  },
  {
   "cell_type": "code",
   "execution_count": 5,
   "id": "rational-premium",
   "metadata": {},
   "outputs": [
    {
     "data": {
      "text/plain": [
       "'/Users/sheraleelovejoy/project/data'"
      ]
     },
     "execution_count": 5,
     "metadata": {},
     "output_type": "execute_result"
    }
   ],
   "source": [
    "pwd"
   ]
  },
  {
   "cell_type": "code",
   "execution_count": 6,
   "id": "first-bishop",
   "metadata": {},
   "outputs": [
    {
     "data": {
      "text/plain": [
       "'def collect_mta_data(week_nums):\\n    mta_df = []\\n    url = \"http://web.mta.info/developers/data/nyct/turnstile/turnstile_{}.txt\"\\n    for week_num in week_nums:\\n        url_file = url.format(week_num)\\n        mta_df.append(pd.read_csv(url_file))\\n    return pd.concat(mta_df)\\n\\n#df = pd.DataFrame(mta_df)'"
      ]
     },
     "execution_count": 6,
     "metadata": {},
     "output_type": "execute_result"
    }
   ],
   "source": [
    "'''def collect_mta_data(week_nums):\n",
    "    mta_df = []\n",
    "    url = \"http://web.mta.info/developers/data/nyct/turnstile/turnstile_{}.txt\"\n",
    "    for week_num in week_nums:\n",
    "        url_file = url.format(week_num)\n",
    "        mta_df.append(pd.read_csv(url_file))\n",
    "    return pd.concat(mta_df)\n",
    "\n",
    "#df = pd.DataFrame(mta_df)'''"
   ]
  },
  {
   "cell_type": "code",
   "execution_count": null,
   "id": "removable-adelaide",
   "metadata": {},
   "outputs": [],
   "source": [
    "#week_nums = [210130,200725,200718,200711,200704,200627,200620,200613,200606,210123,210116,210109,210102,201226,201219,201212,201205,201128,201121,201114,201107,200829,200822,200815,200808,200801,200125,200118,200111,200104,191228,191221,191214,191207,191130,191123,191116,191109,191102,190831,190824,190817,190910,190803,190727,190720,190713,190706,190629,190622,190615,190608,190601]"
   ]
  },
  {
   "cell_type": "code",
   "execution_count": null,
   "id": "editorial-oakland",
   "metadata": {},
   "outputs": [],
   "source": [
    "#mta_df = collect_mta_data(week_nums)"
   ]
  },
  {
   "cell_type": "code",
   "execution_count": null,
   "id": "complicated-assault",
   "metadata": {},
   "outputs": [],
   "source": [
    "#print(mta_df)"
   ]
  },
  {
   "cell_type": "code",
   "execution_count": 7,
   "id": "regular-consortium",
   "metadata": {},
   "outputs": [],
   "source": [
    "df = pd.DataFrame(mta_df)"
   ]
  },
  {
   "cell_type": "code",
   "execution_count": 8,
   "id": "intermediate-martin",
   "metadata": {},
   "outputs": [],
   "source": [
    "df.to_csv(\"all_combined.csv\")"
   ]
  },
  {
   "cell_type": "code",
   "execution_count": 9,
   "id": "southwest-principle",
   "metadata": {},
   "outputs": [
    {
     "data": {
      "text/html": [
       "<div>\n",
       "<style scoped>\n",
       "    .dataframe tbody tr th:only-of-type {\n",
       "        vertical-align: middle;\n",
       "    }\n",
       "\n",
       "    .dataframe tbody tr th {\n",
       "        vertical-align: top;\n",
       "    }\n",
       "\n",
       "    .dataframe thead th {\n",
       "        text-align: right;\n",
       "    }\n",
       "</style>\n",
       "<table border=\"1\" class=\"dataframe\">\n",
       "  <thead>\n",
       "    <tr style=\"text-align: right;\">\n",
       "      <th></th>\n",
       "      <th>0</th>\n",
       "    </tr>\n",
       "  </thead>\n",
       "  <tbody>\n",
       "    <tr>\n",
       "      <th>0</th>\n",
       "      <td>turnstile_190817.txt</td>\n",
       "    </tr>\n",
       "    <tr>\n",
       "      <th>1</th>\n",
       "      <td>[Server, Node, Content-Type, Last-Modified, ET...</td>\n",
       "    </tr>\n",
       "  </tbody>\n",
       "</table>\n",
       "</div>"
      ],
      "text/plain": [
       "                                                   0\n",
       "0                               turnstile_190817.txt\n",
       "1  [Server, Node, Content-Type, Last-Modified, ET..."
      ]
     },
     "execution_count": 9,
     "metadata": {},
     "output_type": "execute_result"
    }
   ],
   "source": [
    "df.head()"
   ]
  },
  {
   "cell_type": "code",
   "execution_count": null,
   "id": "final-protection",
   "metadata": {},
   "outputs": [],
   "source": []
  }
 ],
 "metadata": {
  "kernelspec": {
   "display_name": "Python 3",
   "language": "python",
   "name": "python3"
  },
  "language_info": {
   "codemirror_mode": {
    "name": "ipython",
    "version": 3
   },
   "file_extension": ".py",
   "mimetype": "text/x-python",
   "name": "python",
   "nbconvert_exporter": "python",
   "pygments_lexer": "ipython3",
   "version": "3.8.8"
  }
 },
 "nbformat": 4,
 "nbformat_minor": 5
}
