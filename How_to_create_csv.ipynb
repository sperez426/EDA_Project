{
 "cells": [
  {
   "cell_type": "code",
   "execution_count": 1,
   "id": "increasing-member",
   "metadata": {},
   "outputs": [],
   "source": [
    "import pandas as pd\n",
    "import numpy as np"
   ]
  },
  {
   "cell_type": "code",
   "execution_count": null,
   "id": "similar-nylon",
   "metadata": {},
   "outputs": [],
   "source": [
    "new_df = df.sample(5000)\n",
    "new_df.to_csv(\"csv_for_vaugn\")\n",
    "\n",
    "#how to create csv of 5000 randome samples of my csv so I can send to someone else"
   ]
  }
 ],
 "metadata": {
  "kernelspec": {
   "display_name": "Python 3",
   "language": "python",
   "name": "python3"
  },
  "language_info": {
   "codemirror_mode": {
    "name": "ipython",
    "version": 3
   },
   "file_extension": ".py",
   "mimetype": "text/x-python",
   "name": "python",
   "nbconvert_exporter": "python",
   "pygments_lexer": "ipython3",
   "version": "3.8.8"
  }
 },
 "nbformat": 4,
 "nbformat_minor": 5
}
